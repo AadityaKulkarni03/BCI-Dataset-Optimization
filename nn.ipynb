{
 "cells": [
  {
   "cell_type": "code",
   "execution_count": 11,
   "metadata": {},
   "outputs": [],
   "source": [
    "import os\n",
    "os.environ['TF_CPP_MIN_LOG_LEVEL']='2'\n",
    "\n",
    "import tensorflow as tf\n",
    "from tensorflow import keras\n",
    "from tensorflow.keras import layers\n",
    "from tensorflow.keras.datasets import mnist"
   ]
  },
  {
   "cell_type": "code",
   "execution_count": 12,
   "metadata": {},
   "outputs": [],
   "source": [
    "(x_train,y_train), (x_test,y_test) = mnist.load_data()\n",
    "x_train = x_train.reshape(-1,28*28).astype('float32')/255.0\n",
    "x_test = x_test.reshape(-1,28*28).astype('float32')/255.0"
   ]
  },
  {
   "cell_type": "code",
   "execution_count": 16,
   "metadata": {},
   "outputs": [],
   "source": [
    "model = keras.Sequential(\n",
    "    [\n",
    "        layers.Dense(512,activation='relu'),\n",
    "        layers.Dense(256,activation='relu'),\n",
    "        layers.Dense(10)\n",
    "    ]\n",
    ")# Sequential API (Very convenient, not very flexible)\n"
   ]
  },
  {
   "cell_type": "code",
   "execution_count": 19,
   "metadata": {},
   "outputs": [
    {
     "name": "stderr",
     "output_type": "stream",
     "text": [
      "WARNING:absl:`lr` is deprecated in Keras optimizer, please use `learning_rate` or use the legacy optimizer, e.g.,tf.keras.optimizers.legacy.Adam.\n"
     ]
    }
   ],
   "source": [
    "model.compile(\n",
    "    loss = keras.losses.SparseCategoricalCrossentropy(from_logits=True),\n",
    "    optimizer = keras.optimizers.Adam(lr=0.001),\n",
    "    metrics = [\"accuracy\"],\n",
    ")"
   ]
  },
  {
   "cell_type": "code",
   "execution_count": 20,
   "metadata": {},
   "outputs": [
    {
     "name": "stdout",
     "output_type": "stream",
     "text": [
      "Epoch 1/5\n",
      "1875/1875 - 18s - loss: 0.1851 - accuracy: 0.9432 - 18s/epoch - 9ms/step\n",
      "Epoch 2/5\n",
      "1875/1875 - 16s - loss: 0.0799 - accuracy: 0.9749 - 16s/epoch - 8ms/step\n",
      "Epoch 3/5\n",
      "1875/1875 - 16s - loss: 0.0546 - accuracy: 0.9829 - 16s/epoch - 8ms/step\n",
      "Epoch 4/5\n",
      "1875/1875 - 16s - loss: 0.0429 - accuracy: 0.9861 - 16s/epoch - 8ms/step\n",
      "Epoch 5/5\n",
      "1875/1875 - 16s - loss: 0.0339 - accuracy: 0.9889 - 16s/epoch - 9ms/step\n",
      "313/313 - 1s - loss: 0.0785 - accuracy: 0.9791 - 693ms/epoch - 2ms/step\n"
     ]
    },
    {
     "data": {
      "text/plain": [
       "[0.07854922860860825, 0.9790999889373779]"
      ]
     },
     "execution_count": 20,
     "metadata": {},
     "output_type": "execute_result"
    }
   ],
   "source": [
    "model.fit(x_train,y_train,batch_size=32,epochs=5,verbose=2)\n",
    "model.evaluate(x_test,y_test,batch_size=32,verbose=2)"
   ]
  },
  {
   "cell_type": "code",
   "execution_count": 17,
   "metadata": {},
   "outputs": [],
   "source": [
    "model=keras.Sequential()\n",
    "model.add(keras.Input(shape=(784)))\n",
    "model.add(layers.Dense(512,activation='relu'))\n",
    "model.add(layers.Dense(256,activation='relu',name='my_layer'))\n",
    "model.add(layers.Dense(10))\n"
   ]
  }
 ],
 "metadata": {
  "kernelspec": {
   "display_name": "base",
   "language": "python",
   "name": "python3"
  },
  "language_info": {
   "codemirror_mode": {
    "name": "ipython",
    "version": 3
   },
   "file_extension": ".py",
   "mimetype": "text/x-python",
   "name": "python",
   "nbconvert_exporter": "python",
   "pygments_lexer": "ipython3",
   "version": "3.10.9"
  },
  "orig_nbformat": 4
 },
 "nbformat": 4,
 "nbformat_minor": 2
}
